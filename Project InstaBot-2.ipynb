{
 "cells": [
  {
   "cell_type": "code",
   "execution_count": 35,
   "metadata": {},
   "outputs": [],
   "source": [
    "from selenium import webdriver\n",
    "import time\n",
    "from selenium.webdriver.support.ui import WebDriverWait\n",
    "from selenium.webdriver.support import expected_conditions as EC\n",
    "from selenium.webdriver.common.by import By\n",
    "from selenium.webdriver.common.keys import Keys   "
   ]
  },
  {
   "cell_type": "markdown",
   "metadata": {},
   "source": [
    "Login into Instagram"
   ]
  },
  {
   "cell_type": "code",
   "execution_count": 7,
   "metadata": {},
   "outputs": [
    {
     "name": "stderr",
     "output_type": "stream",
     "text": [
      "/Users/atharvjairath/anaconda3/lib/python3.7/site-packages/ipykernel_launcher.py:1: DeprecationWarning: executable_path has been deprecated, please pass in a Service object\n",
      "  \"\"\"Entry point for launching an IPython kernel.\n"
     ]
    }
   ],
   "source": [
    "driver=webdriver.Chrome(executable_path='/Users/atharvjairath/Downloads/chromedriver') #opening webdriver"
   ]
  },
  {
   "cell_type": "code",
   "execution_count": 4,
   "metadata": {},
   "outputs": [],
   "source": [
    "def loginInsta(user,pwd):\n",
    "    driver.get(\"https://www.instagram.com/accounts/login/\")\n",
    "    driver.implicitly_wait(5)\n",
    "    username = driver.find_element_by_name('username')\n",
    "    username.send_keys(user)\n",
    "    password = driver.find_element_by_name('password')\n",
    "    password.send_keys(pwd)\n",
    "    password.submit()\n",
    "    time.sleep(2)\n",
    "    notnow = driver.find_element_by_css_selector('body > div.RnEpo.Yx5HN > div > div > div.mt3GC > button.aOOlW.HoLwm') #to cancel the popup on login\n",
    "    notnow.click() "
   ]
  },
  {
   "cell_type": "code",
   "execution_count": 8,
   "metadata": {},
   "outputs": [],
   "source": [
    "loginInsta(\"bot_by_atharv\",\"atharv123euro\") #function to login in insta which sends Username and password as argument"
   ]
  },
  {
   "cell_type": "markdown",
   "metadata": {},
   "source": [
    "From the list of instagram handles you obtained when you searched ‘food’ in previous project. Open the first 10 handles and find the top 5 which have the highest number of followers"
   ]
  },
  {
   "cell_type": "code",
   "execution_count": null,
   "metadata": {},
   "outputs": [],
   "source": []
  },
  {
   "cell_type": "code",
   "execution_count": 14,
   "metadata": {},
   "outputs": [],
   "source": [
    "foodhandels_usernames=['dilsefoodie', 'foodtalkindia', 'yourfoodlab', 'foodnetwork', 'foodgod', 'foodandwine', 'food_factors', 'buzzfeedfood', 'foodys',\n",
    " 'diyfoodys', 'foodeducationfund', 'majorfoodgroup', 'foodwithmichel', 'foodinsider', 'mumbaifoodie', 'foodiemagician', 'trimeats', 'foodfightabc',\n",
    " 'lafoodfest', 'nyfoodsharings', 'fitfoodjkt', 'hazelzakariya', 'wholefoods', 'snacksaftersundown', 'somastreatfoodpark', 'foodbutler',\n",
    " 'foodnetworkkitchen', 'foodwellmcr', 'love_food', 'besar_food', 'foodstirs', 'jewishfood', 'thefoodbabe', 'foodjuiceandmore', 'foodtipz',\n",
    " 'shugarysweets', 'clerkenwellboyec1', 'foodieliciousfood', 'foodiefoodlover', 'fastfood_insider', 'impossible_foods', 'questlovesfood',\n",
    " 'foodbabyny', 'tidymom', 'albaik', 'cchannel_food_id', 'dailyfoodfeed', 'food52', 'worldfoodprogramme', 'lottie_tots_loves_food']\n",
    "\n",
    "## foodhandels from pervious project"
   ]
  },
  {
   "cell_type": "code",
   "execution_count": 15,
   "metadata": {},
   "outputs": [
    {
     "data": {
      "text/plain": [
       "['dilsefoodie',\n",
       " 'foodtalkindia',\n",
       " 'yourfoodlab',\n",
       " 'foodnetwork',\n",
       " 'foodgod',\n",
       " 'foodandwine',\n",
       " 'food_factors',\n",
       " 'buzzfeedfood',\n",
       " 'foodys',\n",
       " 'diyfoodys']"
      ]
     },
     "execution_count": 15,
     "metadata": {},
     "output_type": "execute_result"
    }
   ],
   "source": [
    "foodhandels_usernames=foodhandels_usernames[0:10]\n",
    "foodhandels_usernames"
   ]
  },
  {
   "cell_type": "code",
   "execution_count": 16,
   "metadata": {},
   "outputs": [],
   "source": [
    "top_followers={}"
   ]
  },
  {
   "cell_type": "code",
   "execution_count": 10,
   "metadata": {},
   "outputs": [],
   "source": [
    "def OpenPage(name):\n",
    "    driver.get(\"https://www.instagram.com/\")\n",
    "    search_text=driver.find_element_by_css_selector('#react-root > section > nav > div._8MQSO.Cx7Bp > div > div > div.LWmhU._0aCwM > input')\n",
    "    search_text.send_keys(name)\n",
    "    time.sleep(2)\n",
    "    btn=driver.find_element_by_class_name(\"Ap253\").click()"
   ]
  },
  {
   "cell_type": "code",
   "execution_count": 17,
   "metadata": {},
   "outputs": [],
   "source": [
    "def top_10_foodhandles(foodhandels_usernames):\n",
    "    for username in foodhandels_usernames:\n",
    "        OpenPage(username)\n",
    "        time.sleep(8)\n",
    "        Followers=driver.find_elements_by_class_name(\"g47SY \")[1]\n",
    "        followers_number=Followers.get_attribute(\"title\")\n",
    "        followers_number=followers_number.replace(\",\",\"\")\n",
    "        followers_number=int(float(followers_number))\n",
    "        top_followers[username]=followers_number\n",
    "        "
   ]
  },
  {
   "cell_type": "code",
   "execution_count": 18,
   "metadata": {},
   "outputs": [],
   "source": [
    "top_10_foodhandles(foodhandels_usernames)"
   ]
  },
  {
   "cell_type": "code",
   "execution_count": 19,
   "metadata": {},
   "outputs": [
    {
     "data": {
      "text/plain": [
       "{'dilsefoodie': 388309,\n",
       " 'foodtalkindia': 294036,\n",
       " 'yourfoodlab': 1015736,\n",
       " 'foodnetwork': 10281800,\n",
       " 'foodgod': 3596765,\n",
       " 'foodandwine': 3352632,\n",
       " 'food_factors': 1117,\n",
       " 'buzzfeedfood': 3763302,\n",
       " 'foodys': 9552885,\n",
       " 'diyfoodys': 4151281}"
      ]
     },
     "execution_count": 19,
     "metadata": {},
     "output_type": "execute_result"
    }
   ],
   "source": [
    "top_followers"
   ]
  },
  {
   "cell_type": "markdown",
   "metadata": {},
   "source": [
    "1.1 find the top 5 which have the highest number of followers"
   ]
  },
  {
   "cell_type": "code",
   "execution_count": 75,
   "metadata": {},
   "outputs": [
    {
     "name": "stdout",
     "output_type": "stream",
     "text": [
      "foodnetwork 10281800\n",
      "foodys 9552885\n",
      "diyfoodys 4151281\n",
      "buzzfeedfood 3763302\n",
      "foodgod 3596765\n"
     ]
    }
   ],
   "source": [
    "import operator\n",
    "sorted_d = dict( sorted(top_followers.items(), key=operator.itemgetter(1),reverse=True))\n",
    "count=1\n",
    "for i in sorted_d.keys():\n",
    "    if count>5:\n",
    "            break\n",
    "    if i == '':\n",
    "        continue\n",
    "    else:\n",
    "        print(i,sorted_d[i])\n",
    "    count+=1 "
   ]
  },
  {
   "cell_type": "markdown",
   "metadata": {},
   "source": [
    "1.2 Now Find the number of posts these handles have done in the previous 3 days."
   ]
  },
  {
   "cell_type": "code",
   "execution_count": 59,
   "metadata": {},
   "outputs": [],
   "source": [
    "def Num_post(username):\n",
    "    OpenPage(username)\n",
    "    time.sleep(2)\n",
    "    count=0\n",
    "    post = driver.find_element_by_class_name(\"_9AhH0\").click()\n",
    "    num=timeChecker()\n",
    "    if num==0:\n",
    "        return count\n",
    "    count+=num\n",
    "    next_btn=driver.find_element_by_xpath(\"/html/body/div[4]/div[1]/div/div/a\").click()\n",
    "    while num:\n",
    "        next_btn=driver.find_element_by_xpath(\"/html/body/div[4]/div[1]/div/div/a[2]\").click()\n",
    "        time.sleep(1)\n",
    "        num=timeChecker()\n",
    "        if num ==-1:\n",
    "            break\n",
    "        count+=num\n",
    "    return count\n",
    "        \n",
    "        \n",
    "    \n",
    "    "
   ]
  },
  {
   "cell_type": "code",
   "execution_count": null,
   "metadata": {},
   "outputs": [],
   "source": []
  },
  {
   "cell_type": "code",
   "execution_count": 60,
   "metadata": {},
   "outputs": [],
   "source": [
    "def timeChecker():\n",
    "    days_ago=driver.find_element_by_css_selector(\"body > div._2dDPU.CkGkG > div.zZYga > div > article > div.eo2As > div.k_Q0X.NnvRN > a > time\")\n",
    "    if days_ago.text[3]==\"M\":\n",
    "        return 1\n",
    "    elif days_ago.text[3]==\"H\":\n",
    "        return 1\n",
    "    elif (days_ago.text[0]==\"1\") or (days_ago.text[0]==\"2\") or  (days_ago.text[0]==\"3\"):\n",
    "        return 1\n",
    "    else:\n",
    "        return 0\n",
    "    "
   ]
  },
  {
   "cell_type": "code",
   "execution_count": 71,
   "metadata": {},
   "outputs": [],
   "source": [
    "top_5=[\"foodnetwork\",\"foodys\", \"diyfoodys\",\"buzzfeedfood\",\"foodgod\"]\n",
    "number_of_post={}\n",
    "for i in top_5:\n",
    "    count_of_post=Num_post(i)\n",
    "    number_of_post[i]=count_of_post"
   ]
  },
  {
   "cell_type": "code",
   "execution_count": 72,
   "metadata": {},
   "outputs": [
    {
     "data": {
      "text/plain": [
       "{'foodnetwork': 41,\n",
       " 'foodys': 8,\n",
       " 'diyfoodys': 1,\n",
       " 'buzzfeedfood': 0,\n",
       " 'foodgod': 1}"
      ]
     },
     "execution_count": 72,
     "metadata": {},
     "output_type": "execute_result"
    }
   ],
   "source": [
    "number_of_post\n"
   ]
  },
  {
   "cell_type": "code",
   "execution_count": 81,
   "metadata": {},
   "outputs": [],
   "source": [
    "user_names= [ k for k in sorted_d ]\n",
    "followers= [ v for v in sorted_d.values() ][0:4]\n",
    "posts= [ v for v in number_of_post.values() ]"
   ]
  },
  {
   "cell_type": "code",
   "execution_count": 76,
   "metadata": {},
   "outputs": [],
   "source": [
    "import matplotlib.pyplot as plt"
   ]
  },
  {
   "cell_type": "code",
   "execution_count": 89,
   "metadata": {},
   "outputs": [
    {
     "data": {
      "text/plain": [
       "Text(0.5, 1.0, 'Userames and Number of followers where Bubbles Width shows No. of posts')"
      ]
     },
     "execution_count": 89,
     "metadata": {},
     "output_type": "execute_result"
    },
    {
     "data": {
      "image/png": "[encoded data removed]",
      "text/plain": [
       "<Figure size 648x360 with 1 Axes>"
      ]
     },
     "metadata": {
      "needs_background": "light"
     },
     "output_type": "display_data"
    }
   ],
   "source": [
    "plt.subplots(figsize=(9,5))  \n",
    "plt.scatter(top_5,followers,s=posts,color=\"black\")\n",
    "plt.xlabel('User Names')\n",
    "plt.ylabel('Numbe of Followers')\n",
    "#plt.xticks(rotation=90)\n",
    "plt.title('Userames and Number of followers where Bubbles Width shows No. of posts')"
   ]
  },
  {
   "cell_type": "markdown",
   "metadata": {},
   "source": [
    "2. Your friend also needs a list of hashtags that he should use in his posts."
   ]
  },
  {
   "cell_type": "markdown",
   "metadata": {},
   "source": [
    "2.1 Open the 5 handles you obtained in the last question, and scrape the content of the first 10 posts of each handle."
   ]
  },
  {
   "cell_type": "code",
   "execution_count": 95,
   "metadata": {},
   "outputs": [],
   "source": [
    "hastags_dict={}"
   ]
  },
  {
   "cell_type": "code",
   "execution_count": 101,
   "metadata": {},
   "outputs": [],
   "source": [
    "\n",
    "def Popular_hastags(username):\n",
    "    OpenPage(username)\n",
    "    time.sleep(2)\n",
    "    post = driver.find_element_by_class_name(\"_9AhH0\").click()\n",
    "    hastags=driver.find_elements_by_class_name(\"xil3i\")\n",
    "    for i in hastags:\n",
    "        hastags_dict[i.text] = hastags_dict.get(i.text,0) + 1\n",
    "    next_btn=driver.find_element_by_xpath(\"/html/body/div[4]/div[1]/div/div/a\").click()\n",
    "    for i in range(4):\n",
    "        next_btn=driver.find_element_by_xpath(\"/html/body/div[4]/div[1]/div/div/a[2]\").click()\n",
    "        time.sleep(2)\n",
    "        hastags=driver.find_elements_by_class_name(\"xil3i\")\n",
    "        for i in hastags:\n",
    "            hastags_dict[i.text] = hastags_dict.get(i.text,0) + 1\n",
    "        \n",
    "    \n",
    "    "
   ]
  },
  {
   "cell_type": "code",
   "execution_count": 104,
   "metadata": {},
   "outputs": [],
   "source": [
    "top_5=[\"foodnetwork\",\"foodys\", \"diyfoodys\",\"buzzfeedfood\",\"foodgod\"]\n",
    "for i in top_5:\n",
    "    Popular_hastags(i)\n",
    "    time.sleep(2)\n",
    "    "
   ]
  },
  {
   "cell_type": "markdown",
   "metadata": {},
   "source": [
    "2.2 Prepare a list of all words used in all the scraped posts and calculate the frequency of each word."
   ]
  },
  {
   "cell_type": "code",
   "execution_count": 105,
   "metadata": {
    "scrolled": true
   },
   "outputs": [
    {
     "data": {
      "text/plain": [
       "{'#DDD': 6,\n",
       " '#WeCook': 6,\n",
       " '#VeganInspirations': 3,\n",
       " '#FoodNetworkKitchen': 3,\n",
       " '#SymonDinners': 3,\n",
       " '#GiadaEntertains': 3,\n",
       " '#foodysoriginal': 2,\n",
       " '#boyfriend': 2,\n",
       " '#music': 4,\n",
       " '#food': 14,\n",
       " '#foodpics': 10,\n",
       " '#foodinstagram': 10,\n",
       " '#foodporn': 10,\n",
       " '#foodgasm': 10,\n",
       " '#foods': 10,\n",
       " '#foodie': 10,\n",
       " '#foodforthought': 10,\n",
       " '#foodblog': 10,\n",
       " '#foodlovers': 10,\n",
       " '#foodisfuel': 10,\n",
       " '#comida': 10,\n",
       " '#chocolate': 16,\n",
       " '#doce': 10,\n",
       " '#sweet': 10,\n",
       " '#delicious': 14,\n",
       " '#yummy': 20,\n",
       " '#delicia': 10,\n",
       " '#happy': 10,\n",
       " '#best': 10,\n",
       " '#cook': 4,\n",
       " '#loveit': 10,\n",
       " '#newyear': 4,\n",
       " '#thanksgiving': 4,\n",
       " '#cheflife': 4,\n",
       " '#hairstyles': 10,\n",
       " '#hair': 10,\n",
       " '#healthyfood': 10,\n",
       " '#foodphotography': 10,\n",
       " '#follow': 6,\n",
       " '#love': 6,\n",
       " '#halloweenfood': 6,\n",
       " '#halloweenmakeup': 6,\n",
       " '#halloweencostume': 6,\n",
       " '#BuzzFeast': 10,\n",
       " '#damnyum': 2,\n",
       " '#طبخات_من_جميع_أنحاء_العالم': 4,\n",
       " '#artist': 2,\n",
       " '#networking': 2,\n",
       " '#vacation': 2,\n",
       " '#marketing': 2,\n",
       " '#promo': 2,\n",
       " '#booking': 2,\n",
       " '#referals': 2,\n",
       " '#club': 2,\n",
       " '#hosting': 2,\n",
       " '#platinumcelebrity': 2,\n",
       " '#ocalaqueen352': 2,\n",
       " '#bringme': 2,\n",
       " '#portlandtravel': 2,\n",
       " '#sushirestuarant': 2,\n",
       " '#sushi': 2,\n",
       " '#oregontravel': 2,\n",
       " '#sustainability': 2,\n",
       " '#foodgod': 6,\n",
       " '#whippedcoffee': 2,\n",
       " '#stayhome': 4,\n",
       " '#socialdistancing': 2,\n",
       " '#recipe': 2,\n",
       " '#recipevideo': 2,\n",
       " '#coffeeaddict': 2,\n",
       " '#coffeevibes': 2,\n",
       " '#recipeoftheday': 2,\n",
       " '#easyrecipes': 2,\n",
       " '#recipes': 2,\n",
       " '#diy': 4,\n",
       " '#dalgonacoffee': 2,\n",
       " '#diycoffee': 2,\n",
       " '#dalgonacoffeechallenge': 2,\n",
       " '#dalgona': 2,\n",
       " '#StayAtHome': 2,\n",
       " '#ricebowl': 2,\n",
       " '#eggyolk': 2,\n",
       " '#omelet': 2,\n",
       " '#scrambledeggs': 2,\n",
       " '#diyfood': 2,\n",
       " '#kuwtk': 2,\n",
       " '#breakfast': 2,\n",
       " '#eggs': 2,\n",
       " '#foodies': 2,\n",
       " '#brunch': 2,\n",
       " '#tasty': 2}"
      ]
     },
     "execution_count": 105,
     "metadata": {},
     "output_type": "execute_result"
    }
   ],
   "source": [
    "hastags_dict"
   ]
  },
  {
   "cell_type": "markdown",
   "metadata": {},
   "source": [
    "Create a csv file with two columns : the word and its frequency"
   ]
  },
  {
   "cell_type": "code",
   "execution_count": 106,
   "metadata": {},
   "outputs": [],
   "source": [
    "import pandas as pd"
   ]
  },
  {
   "cell_type": "code",
   "execution_count": 127,
   "metadata": {},
   "outputs": [
    {
     "data": {
      "text/plain": [
       "'Hastags,Frequency\\n#DDD,6\\n#WeCook,6\\n#VeganInspirations,3\\n#FoodNetworkKitchen,3\\n#SymonDinners,3\\n#GiadaEntertains,3\\n#foodysoriginal,2\\n#boyfriend,2\\n#music,4\\n#food,14\\n#foodpics,10\\n#foodinstagram,10\\n#foodporn,10\\n#foodgasm,10\\n#foods,10\\n#foodie,10\\n#foodforthought,10\\n#foodblog,10\\n#foodlovers,10\\n#foodisfuel,10\\n#comida,10\\n#chocolate,16\\n#doce,10\\n#sweet,10\\n#delicious,14\\n#yummy,20\\n#delicia,10\\n#happy,10\\n#best,10\\n#cook,4\\n#loveit,10\\n#newyear,4\\n#thanksgiving,4\\n#cheflife,4\\n#hairstyles,10\\n#hair,10\\n#healthyfood,10\\n#foodphotography,10\\n#follow,6\\n#love,6\\n#halloweenfood,6\\n#halloweenmakeup,6\\n#halloweencostume,6\\n#BuzzFeast,10\\n#damnyum,2\\n#طبخات_من_جميع_أنحاء_العالم,4\\n#artist,2\\n#networking,2\\n#vacation,2\\n#marketing,2\\n#promo,2\\n#booking,2\\n#referals,2\\n#club,2\\n#hosting,2\\n#platinumcelebrity,2\\n#ocalaqueen352,2\\n#bringme,2\\n#portlandtravel,2\\n#sushirestuarant,2\\n#sushi,2\\n#oregontravel,2\\n#sustainability,2\\n#foodgod,6\\n#whippedcoffee,2\\n#stayhome,4\\n#socialdistancing,2\\n#recipe,2\\n#recipevideo,2\\n#coffeeaddict,2\\n#coffeevibes,2\\n#recipeoftheday,2\\n#easyrecipes,2\\n#recipes,2\\n#diy,4\\n#dalgonacoffee,2\\n#diycoffee,2\\n#dalgonacoffeechallenge,2\\n#dalgona,2\\n#StayAtHome,2\\n#ricebowl,2\\n#eggyolk,2\\n#omelet,2\\n#scrambledeggs,2\\n#diyfood,2\\n#kuwtk,2\\n#breakfast,2\\n#eggs,2\\n#foodies,2\\n#brunch,2\\n#tasty,2\\n'"
      ]
     },
     "execution_count": 127,
     "metadata": {},
     "output_type": "execute_result"
    }
   ],
   "source": [
    "data=pd.DataFrame(hastags_dict.items(), columns=[\"Hastags\",\"Frequency\"]) \n",
    "#data.sort_values('Frequency',ascending=False)\n",
    "data.to_csv(index=False)"
   ]
  },
  {
   "cell_type": "markdown",
   "metadata": {},
   "source": [
    "2.4 Now, find the hashtags that were most popular among these bloggers"
   ]
  },
  {
   "cell_type": "code",
   "execution_count": 132,
   "metadata": {},
   "outputs": [
    {
     "name": "stdout",
     "output_type": "stream",
     "text": [
      "#yummy 20\n",
      "#chocolate 16\n",
      "#food 14\n",
      "#delicious 14\n",
      "#foodpics 10\n",
      "#foodinstagram 10\n",
      "#foodporn 10\n",
      "#foodgasm 10\n",
      "#foods 10\n",
      "#foodie 10\n",
      "#foodforthought 10\n",
      "#foodblog 10\n",
      "#foodlovers 10\n",
      "#foodisfuel 10\n",
      "#comida 10\n",
      "#doce 10\n",
      "#sweet 10\n",
      "#delicia 10\n",
      "#happy 10\n",
      "#best 10\n",
      "#loveit 10\n",
      "#hairstyles 10\n",
      "#hair 10\n",
      "#healthyfood 10\n",
      "#foodphotography 10\n",
      "#BuzzFeast 10\n"
     ]
    }
   ],
   "source": [
    "hastags_dict_popular = dict( sorted(hastags_dict.items(), key=operator.itemgetter(1),reverse=True))\n",
    "for i in hastags_dict_popular:\n",
    "    if hastags_dict_popular[i]>=10:\n",
    "        print(i,hastags_dict_popular[i])   "
   ]
  },
  {
   "cell_type": "markdown",
   "metadata": {},
   "source": [
    "2.5 Plot a Pie Chart of the top 5 hashtags obtained and the number of times they were used by these bloggers in the scraped posts."
   ]
  },
  {
   "cell_type": "code",
   "execution_count": 134,
   "metadata": {},
   "outputs": [
    {
     "data": {
      "image/png": "[encoded data removed]",
      "text/plain": [
       "<Figure size 720x432 with 1 Axes>"
      ]
     },
     "metadata": {},
     "output_type": "display_data"
    }
   ],
   "source": [
    "   \n",
    "hastag_name= [ k for k in hastags_dict_popular ][0:5]\n",
    "counts= [ v for v in hastags_dict_popular.values() ][0:5]\n",
    "plt.subplots(figsize=(10,6))\n",
    "plt.pie(counts,labels=hastag_name,autopct='%1.1f%%')\n",
    "plt.title(\"Top 5 hashtags obtained and the number of times they were used by these bloggers in the scraped posts\")\n",
    "plt.axis(\"equal\")\n",
    "plt.show()"
   ]
  },
  {
   "cell_type": "markdown",
   "metadata": {},
   "source": [
    "3.You need to also calculate average followers : likes ratio for the obtained handles.\n",
    "Followers : Likes ratio is calculated as follows:"
   ]
  },
  {
   "cell_type": "markdown",
   "metadata": {},
   "source": [
    "3.1  Find out the likes of the top 10 posts of the 5 handles obtained earlier.\n",
    "3.2  Calculate the average likes for a handle."
   ]
  },
  {
   "cell_type": "code",
   "execution_count": 55,
   "metadata": {},
   "outputs": [
    {
     "ename": "ElementClickInterceptedException",
     "evalue": "Message: element click intercepted: Element <div class=\"_9AhH0\"></div> is not clickable at point (149, 183). Other element would receive the click: <ul class=\"Ln-UN\">...</ul>\n  (Session info: chrome=81.0.4044.113)\nStacktrace:\n0   chromedriver                        0x0000000107d1e329 chromedriver + 3838761\n1   chromedriver                        0x0000000107cb8123 chromedriver + 3420451\n2   chromedriver                        0x0000000107a2c62f chromedriver + 751151\n3   chromedriver                        0x000000010799ef8c chromedriver + 171916\n4   chromedriver                        0x000000010799d9a8 chromedriver + 166312\n5   chromedriver                        0x000000010799bc43 chromedriver + 158787\n6   chromedriver                        0x000000010799ae9e chromedriver + 155294\n7   chromedriver                        0x0000000107992656 chromedriver + 120406\n8   chromedriver                        0x00000001079b6592 chromedriver + 267666\n9   chromedriver                        0x00000001079923c6 chromedriver + 119750\n10  chromedriver                        0x00000001079b680e chromedriver + 268302\n11  chromedriver                        0x00000001079c338b chromedriver + 320395\n12  chromedriver                        0x00000001079b67b3 chromedriver + 268211\n13  chromedriver                        0x00000001079900bd chromedriver + 110781\n14  chromedriver                        0x0000000107991055 chromedriver + 114773\n15  chromedriver                        0x0000000107cdfebf chromedriver + 3583679\n16  chromedriver                        0x0000000107cece4a chromedriver + 3636810\n17  chromedriver                        0x0000000107cecbe7 chromedriver + 3636199\n18  chromedriver                        0x0000000107cc3839 chromedriver + 3467321\n19  chromedriver                        0x0000000107ced707 chromedriver + 3639047\n20  chromedriver                        0x0000000107cd5cc7 chromedriver + 3542215\n21  chromedriver                        0x0000000107d03324 chromedriver + 3728164\n22  chromedriver                        0x0000000107d24387 chromedriver + 3863431\n23  libsystem_pthread.dylib             0x00007fff6eb32109 _pthread_start + 148\n24  libsystem_pthread.dylib             0x00007fff6eb2db8b thread_start + 15\n",
     "output_type": "error",
     "traceback": [
      "\u001b[0;31m---------------------------------------------------------------------------\u001b[0m",
      "\u001b[0;31mElementClickInterceptedException\u001b[0m          Traceback (most recent call last)",
      "\u001b[0;32m<ipython-input-55-968755ea908f>\u001b[0m in \u001b[0;36m<module>\u001b[0;34m\u001b[0m\n\u001b[1;32m     25\u001b[0m             \u001b[0mfinal\u001b[0m\u001b[0;34m=\u001b[0m\u001b[0mlen\u001b[0m\u001b[0;34m(\u001b[0m\u001b[0mdata\u001b[0m\u001b[0;34m)\u001b[0m\u001b[0;34m\u001b[0m\u001b[0;34m\u001b[0m\u001b[0m\n\u001b[1;32m     26\u001b[0m             \u001b[0mdriver\u001b[0m\u001b[0;34m.\u001b[0m\u001b[0mimplicitly_wait\u001b[0m\u001b[0;34m(\u001b[0m\u001b[0;36m10\u001b[0m\u001b[0;34m)\u001b[0m\u001b[0;34m\u001b[0m\u001b[0;34m\u001b[0m\u001b[0m\n\u001b[0;32m---> 27\u001b[0;31m             \u001b[0mdata\u001b[0m\u001b[0;34m[\u001b[0m\u001b[0mp\u001b[0m\u001b[0;34m]\u001b[0m\u001b[0;34m.\u001b[0m\u001b[0mclick\u001b[0m\u001b[0;34m(\u001b[0m\u001b[0;34m)\u001b[0m\u001b[0;34m\u001b[0m\u001b[0;34m\u001b[0m\u001b[0m\n\u001b[0m\u001b[1;32m     28\u001b[0m             \u001b[0mdriver\u001b[0m\u001b[0;34m.\u001b[0m\u001b[0mimplicitly_wait\u001b[0m\u001b[0;34m(\u001b[0m\u001b[0;36m10\u001b[0m\u001b[0;34m)\u001b[0m\u001b[0;34m\u001b[0m\u001b[0;34m\u001b[0m\u001b[0m\n\u001b[1;32m     29\u001b[0m             \u001b[0mdata\u001b[0m\u001b[0;34m=\u001b[0m\u001b[0mdriver\u001b[0m\u001b[0;34m.\u001b[0m\u001b[0mfind_element_by_xpath\u001b[0m\u001b[0;34m(\u001b[0m\u001b[0;34m'//button[contains(@class,\"sqdOP \")]//span'\u001b[0m\u001b[0;34m)\u001b[0m  \u001b[0;31m#find likes on post\u001b[0m\u001b[0;34m\u001b[0m\u001b[0;34m\u001b[0m\u001b[0m\n",
      "\u001b[0;32m~/anaconda3/lib/python3.7/site-packages/selenium/webdriver/remote/webelement.py\u001b[0m in \u001b[0;36mclick\u001b[0;34m(self)\u001b[0m\n\u001b[1;32m     83\u001b[0m     \u001b[0;32mdef\u001b[0m \u001b[0mclick\u001b[0m\u001b[0;34m(\u001b[0m\u001b[0mself\u001b[0m\u001b[0;34m)\u001b[0m\u001b[0;34m:\u001b[0m\u001b[0;34m\u001b[0m\u001b[0;34m\u001b[0m\u001b[0m\n\u001b[1;32m     84\u001b[0m         \u001b[0;34m\"\"\"Clicks the element.\"\"\"\u001b[0m\u001b[0;34m\u001b[0m\u001b[0;34m\u001b[0m\u001b[0m\n\u001b[0;32m---> 85\u001b[0;31m         \u001b[0mself\u001b[0m\u001b[0;34m.\u001b[0m\u001b[0m_execute\u001b[0m\u001b[0;34m(\u001b[0m\u001b[0mCommand\u001b[0m\u001b[0;34m.\u001b[0m\u001b[0mCLICK_ELEMENT\u001b[0m\u001b[0;34m)\u001b[0m\u001b[0;34m\u001b[0m\u001b[0;34m\u001b[0m\u001b[0m\n\u001b[0m\u001b[1;32m     86\u001b[0m \u001b[0;34m\u001b[0m\u001b[0m\n\u001b[1;32m     87\u001b[0m     \u001b[0;32mdef\u001b[0m \u001b[0msubmit\u001b[0m\u001b[0;34m(\u001b[0m\u001b[0mself\u001b[0m\u001b[0;34m)\u001b[0m\u001b[0;34m:\u001b[0m\u001b[0;34m\u001b[0m\u001b[0;34m\u001b[0m\u001b[0m\n",
      "\u001b[0;32m~/anaconda3/lib/python3.7/site-packages/selenium/webdriver/remote/webelement.py\u001b[0m in \u001b[0;36m_execute\u001b[0;34m(self, command, params)\u001b[0m\n\u001b[1;32m    691\u001b[0m             \u001b[0mparams\u001b[0m \u001b[0;34m=\u001b[0m \u001b[0;34m{\u001b[0m\u001b[0;34m}\u001b[0m\u001b[0;34m\u001b[0m\u001b[0;34m\u001b[0m\u001b[0m\n\u001b[1;32m    692\u001b[0m         \u001b[0mparams\u001b[0m\u001b[0;34m[\u001b[0m\u001b[0;34m'id'\u001b[0m\u001b[0;34m]\u001b[0m \u001b[0;34m=\u001b[0m \u001b[0mself\u001b[0m\u001b[0;34m.\u001b[0m\u001b[0m_id\u001b[0m\u001b[0;34m\u001b[0m\u001b[0;34m\u001b[0m\u001b[0m\n\u001b[0;32m--> 693\u001b[0;31m         \u001b[0;32mreturn\u001b[0m \u001b[0mself\u001b[0m\u001b[0;34m.\u001b[0m\u001b[0m_parent\u001b[0m\u001b[0;34m.\u001b[0m\u001b[0mexecute\u001b[0m\u001b[0;34m(\u001b[0m\u001b[0mcommand\u001b[0m\u001b[0;34m,\u001b[0m \u001b[0mparams\u001b[0m\u001b[0;34m)\u001b[0m\u001b[0;34m\u001b[0m\u001b[0;34m\u001b[0m\u001b[0m\n\u001b[0m\u001b[1;32m    694\u001b[0m \u001b[0;34m\u001b[0m\u001b[0m\n\u001b[1;32m    695\u001b[0m     \u001b[0;32mdef\u001b[0m \u001b[0mfind_element\u001b[0m\u001b[0;34m(\u001b[0m\u001b[0mself\u001b[0m\u001b[0;34m,\u001b[0m \u001b[0mby\u001b[0m\u001b[0;34m=\u001b[0m\u001b[0mBy\u001b[0m\u001b[0;34m.\u001b[0m\u001b[0mID\u001b[0m\u001b[0;34m,\u001b[0m \u001b[0mvalue\u001b[0m\u001b[0;34m=\u001b[0m\u001b[0;32mNone\u001b[0m\u001b[0;34m)\u001b[0m\u001b[0;34m:\u001b[0m\u001b[0;34m\u001b[0m\u001b[0;34m\u001b[0m\u001b[0m\n",
      "\u001b[0;32m~/anaconda3/lib/python3.7/site-packages/selenium/webdriver/remote/webdriver.py\u001b[0m in \u001b[0;36mexecute\u001b[0;34m(self, driver_command, params)\u001b[0m\n\u001b[1;32m    336\u001b[0m         \u001b[0mresponse\u001b[0m \u001b[0;34m=\u001b[0m \u001b[0mself\u001b[0m\u001b[0;34m.\u001b[0m\u001b[0mcommand_executor\u001b[0m\u001b[0;34m.\u001b[0m\u001b[0mexecute\u001b[0m\u001b[0;34m(\u001b[0m\u001b[0mdriver_command\u001b[0m\u001b[0;34m,\u001b[0m \u001b[0mparams\u001b[0m\u001b[0;34m)\u001b[0m\u001b[0;34m\u001b[0m\u001b[0;34m\u001b[0m\u001b[0m\n\u001b[1;32m    337\u001b[0m         \u001b[0;32mif\u001b[0m \u001b[0mresponse\u001b[0m\u001b[0;34m:\u001b[0m\u001b[0;34m\u001b[0m\u001b[0;34m\u001b[0m\u001b[0m\n\u001b[0;32m--> 338\u001b[0;31m             \u001b[0mself\u001b[0m\u001b[0;34m.\u001b[0m\u001b[0merror_handler\u001b[0m\u001b[0;34m.\u001b[0m\u001b[0mcheck_response\u001b[0m\u001b[0;34m(\u001b[0m\u001b[0mresponse\u001b[0m\u001b[0;34m)\u001b[0m\u001b[0;34m\u001b[0m\u001b[0;34m\u001b[0m\u001b[0m\n\u001b[0m\u001b[1;32m    339\u001b[0m             response['value'] = self._unwrap_value(\n\u001b[1;32m    340\u001b[0m                 response.get('value', None))\n",
      "\u001b[0;32m~/anaconda3/lib/python3.7/site-packages/selenium/webdriver/remote/errorhandler.py\u001b[0m in \u001b[0;36mcheck_response\u001b[0;34m(self, response)\u001b[0m\n\u001b[1;32m    238\u001b[0m                 \u001b[0malert_text\u001b[0m \u001b[0;34m=\u001b[0m \u001b[0mvalue\u001b[0m\u001b[0;34m[\u001b[0m\u001b[0;34m'alert'\u001b[0m\u001b[0;34m]\u001b[0m\u001b[0;34m.\u001b[0m\u001b[0mget\u001b[0m\u001b[0;34m(\u001b[0m\u001b[0;34m'text'\u001b[0m\u001b[0;34m)\u001b[0m\u001b[0;34m\u001b[0m\u001b[0;34m\u001b[0m\u001b[0m\n\u001b[1;32m    239\u001b[0m             \u001b[0;32mraise\u001b[0m \u001b[0mexception_class\u001b[0m\u001b[0;34m(\u001b[0m\u001b[0mmessage\u001b[0m\u001b[0;34m,\u001b[0m \u001b[0mscreen\u001b[0m\u001b[0;34m,\u001b[0m \u001b[0mstacktrace\u001b[0m\u001b[0;34m,\u001b[0m \u001b[0malert_text\u001b[0m\u001b[0;34m)\u001b[0m\u001b[0;34m\u001b[0m\u001b[0;34m\u001b[0m\u001b[0m\n\u001b[0;32m--> 240\u001b[0;31m         \u001b[0;32mraise\u001b[0m \u001b[0mexception_class\u001b[0m\u001b[0;34m(\u001b[0m\u001b[0mmessage\u001b[0m\u001b[0;34m,\u001b[0m \u001b[0mscreen\u001b[0m\u001b[0;34m,\u001b[0m \u001b[0mstacktrace\u001b[0m\u001b[0;34m)\u001b[0m\u001b[0;34m\u001b[0m\u001b[0;34m\u001b[0m\u001b[0m\n\u001b[0m\u001b[1;32m    241\u001b[0m \u001b[0;34m\u001b[0m\u001b[0m\n\u001b[1;32m    242\u001b[0m     \u001b[0;32mdef\u001b[0m \u001b[0m_value_or_default\u001b[0m\u001b[0;34m(\u001b[0m\u001b[0mself\u001b[0m\u001b[0;34m,\u001b[0m \u001b[0mobj\u001b[0m\u001b[0;34m,\u001b[0m \u001b[0mkey\u001b[0m\u001b[0;34m,\u001b[0m \u001b[0mdefault\u001b[0m\u001b[0;34m)\u001b[0m\u001b[0;34m:\u001b[0m\u001b[0;34m\u001b[0m\u001b[0;34m\u001b[0m\u001b[0m\n",
      "\u001b[0;31mElementClickInterceptedException\u001b[0m: Message: element click intercepted: Element <div class=\"_9AhH0\"></div> is not clickable at point (149, 183). Other element would receive the click: <ul class=\"Ln-UN\">...</ul>\n  (Session info: chrome=81.0.4044.113)\nStacktrace:\n0   chromedriver                        0x0000000107d1e329 chromedriver + 3838761\n1   chromedriver                        0x0000000107cb8123 chromedriver + 3420451\n2   chromedriver                        0x0000000107a2c62f chromedriver + 751151\n3   chromedriver                        0x000000010799ef8c chromedriver + 171916\n4   chromedriver                        0x000000010799d9a8 chromedriver + 166312\n5   chromedriver                        0x000000010799bc43 chromedriver + 158787\n6   chromedriver                        0x000000010799ae9e chromedriver + 155294\n7   chromedriver                        0x0000000107992656 chromedriver + 120406\n8   chromedriver                        0x00000001079b6592 chromedriver + 267666\n9   chromedriver                        0x00000001079923c6 chromedriver + 119750\n10  chromedriver                        0x00000001079b680e chromedriver + 268302\n11  chromedriver                        0x00000001079c338b chromedriver + 320395\n12  chromedriver                        0x00000001079b67b3 chromedriver + 268211\n13  chromedriver                        0x00000001079900bd chromedriver + 110781\n14  chromedriver                        0x0000000107991055 chromedriver + 114773\n15  chromedriver                        0x0000000107cdfebf chromedriver + 3583679\n16  chromedriver                        0x0000000107cece4a chromedriver + 3636810\n17  chromedriver                        0x0000000107cecbe7 chromedriver + 3636199\n18  chromedriver                        0x0000000107cc3839 chromedriver + 3467321\n19  chromedriver                        0x0000000107ced707 chromedriver + 3639047\n20  chromedriver                        0x0000000107cd5cc7 chromedriver + 3542215\n21  chromedriver                        0x0000000107d03324 chromedriver + 3728164\n22  chromedriver                        0x0000000107d24387 chromedriver + 3863431\n23  libsystem_pthread.dylib             0x00007fff6eb32109 _pthread_start + 148\n24  libsystem_pthread.dylib             0x00007fff6eb2db8b thread_start + 15\n"
     ]
    }
   ],
   "source": [
    "\n",
    "from selenium.common.exceptions import NoSuchElementException                    #to check for exception\n",
    "top_5=[\"foodnetwork\",\"foodys\", \"diyfoodys\",\"buzzfeedfood\",\"foodgod\"]  \n",
    "                           \n",
    "top_5_post_like={}                                                          #dictionary for top five post\n",
    "for t in top_5:                                                        \n",
    "    post_likes={}\n",
    "    count=0\n",
    "    OpenPage(t)\n",
    "    for i in range(12):\n",
    "        driver.execute_script('window.scrollBy(0,2000);')                  #scroll by 2000\n",
    "        time.sleep(1)\n",
    "    data=driver.find_elements_by_xpath('//div[contains(@class,\"_9AhH0\")]') #fetch the elements\n",
    "    for j in range(12): \n",
    "        driver.execute_script('window.scrollBy(0,-2000);')                 #scroll by 2000\n",
    "        time.sleep(1)\n",
    "    driver.execute_script('window.scrollBy(0,500);')                       #make in proper place f post\n",
    "    final=data\n",
    "    driver.implicitly_wait(10)\n",
    "    for p in range(len(final)):\n",
    "        if count>9:\n",
    "            break  \n",
    "        try:\n",
    "            data=driver.find_elements_by_xpath('//div[contains(@class,\"_9AhH0\")]')  #fetch post\n",
    "            driver.execute_script('window.scrollBy(0,80);')\n",
    "            final=len(data)\n",
    "            driver.implicitly_wait(10)\n",
    "            data[p].click()\n",
    "            driver.implicitly_wait(10)\n",
    "            data=driver.find_element_by_xpath('//button[contains(@class,\"sqdOP \")]//span')  #find likes on post\n",
    "            val=data.text\n",
    "            if val=='':\n",
    "                new=driver.find_element_by_xpath('//button[contains(@class,\"ckWGn\")]')     #close post\n",
    "                new.click()\n",
    "                continue\n",
    "            if val[0]=='V':\n",
    "                new=driver.find_element_by_xpath('//button[contains(@class,\"ckWGn\")]')\n",
    "                new.click()\n",
    "                continue\n",
    "            val=val.replace(',','')\n",
    "            ans=val\n",
    "            count=count+1\n",
    "            number='post'+str(count)\n",
    "            post_likes[number]=ans\n",
    "            new=driver.find_element_by_xpath('//button[contains(@class,\"ckWGn\")]')\n",
    "            new.click()\n",
    "            \n",
    "        except NoSuchElementException:\n",
    "            new=driver.find_element_by_xpath('//button[contains(@class,\"ckWGn\")]')\n",
    "            new.click()\n",
    "    \n",
    "    top_5_post_like[t]=post_likes\n",
    "print(top_5_post_likes)"
   ]
  }
 ],
 "metadata": {
  "kernelspec": {
   "display_name": "Python 3",
   "language": "python",
   "name": "python3"
  },
  "language_info": {
   "codemirror_mode": {
    "name": "ipython",
    "version": 3
   },
   "file_extension": ".py",
   "mimetype": "text/x-python",
   "name": "python",
   "nbconvert_exporter": "python",
   "pygments_lexer": "ipython3",
   "version": "3.7.3"
  }
 },
 "nbformat": 4,
 "nbformat_minor": 2
}
