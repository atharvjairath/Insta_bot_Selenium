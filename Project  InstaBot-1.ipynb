{
 "cells": [
  {
   "cell_type": "code",
   "execution_count": 67,
   "metadata": {},
   "outputs": [],
   "source": [
    "from selenium import webdriver  #imports selenium\n",
    "import time \n",
    "from selenium.webdriver.support.ui import WebDriverWait    #To use implcit and explicit wait\n",
    "from selenium.webdriver.support import expected_conditions as EC    #provides exceptio to  be used\n",
    "from selenium.webdriver.common.by import By                         #to select the attribute by Class,link_text\n",
    "from bs4 import BeautifulSoup                                       #imports beautifulsoup\n",
    "from selenium.webdriver.common.keys import Keys                     #provide keys in the keyboard like RETURN, F1, ALT\n",
    "from selenium.common.exceptions import TimeoutException             #to use TieoutException\n"
   ]
  },
  {
   "cell_type": "markdown",
   "metadata": {},
   "source": [
    "# 1. login into instagram account"
   ]
  },
  {
   "cell_type": "code",
   "execution_count": 47,
   "metadata": {},
   "outputs": [
    {
     "name": "stderr",
     "output_type": "stream",
     "text": [
      "/Users/atharvjairath/anaconda3/lib/python3.7/site-packages/ipykernel_launcher.py:1: DeprecationWarning: executable_path has been deprecated, please pass in a Service object\n",
      "  \"\"\"Entry point for launching an IPython kernel.\n"
     ]
    }
   ],
   "source": [
    "driver=webdriver.Chrome(executable_path='/Users/atharvjairath/Downloads/chromedriver') #opens driver"
   ]
  },
  {
   "cell_type": "code",
   "execution_count": 4,
   "metadata": {},
   "outputs": [],
   "source": [
    "def loginInsta():\n",
    "    driver.get(\"https://www.instagram.com/accounts/login/\") #login page\n",
    "    driver.implicitly_wait(5)\n",
    "    username = driver.find_element_by_name('username')  \n",
    "    username.send_keys('Sample Username')  #enters username\n",
    "    password = driver.find_element_by_name('password')\n",
    "    password.send_keys('Sample Password')  #enters Password\n",
    "    password.submit()\n",
    "    notnow = driver.find_element_by_css_selector('body > div.RnEpo.Yx5HN > div > div > div.mt3GC > button.aOOlW.HoLwm') #to remove popup for notifivation\n",
    "    notnow.click()"
   ]
  },
  {
   "cell_type": "code",
   "execution_count": 48,
   "metadata": {},
   "outputs": [],
   "source": [
    "loginInsta()"
   ]
  },
  {
   "cell_type": "markdown",
   "metadata": {},
   "source": [
    "### 2.Type for “food” in search bar and print all the names of the Instagram Handles that are displayed in list after typing “food"
   ]
  },
  {
   "cell_type": "code",
   "execution_count": 102,
   "metadata": {},
   "outputs": [],
   "source": [
    "foodhandels_usernames=[]           #list for   foodhandels\n",
    "def foodhandels():\n",
    "    driver.get(\"https://www.instagram.com/\")  #newpage\n",
    "    search_text=driver.find_element_by_css_selector('#react-root > section > nav > div._8MQSO.Cx7Bp > div > div > div.LWmhU._0aCwM > input')  #search box\n",
    "    search_text.send_keys('food')       #types food\n",
    "    driver.implicitly_wait(5)\n",
    "    Names=driver.find_elements_by_class_name(\"Ap253\") #userames\n",
    "    for i in Names:\n",
    "        handles=i.text\n",
    "        if handles[0]!='#':           #exlcuding hastags\n",
    "            foodhandels_usernames.append(handles)\n",
    "            print(handles)"
   ]
  },
  {
   "cell_type": "code",
   "execution_count": 104,
   "metadata": {},
   "outputs": [
    {
     "name": "stdout",
     "output_type": "stream",
     "text": [
      "['dilsefoodie', 'foodtalkindia', 'yourfoodlab', 'foodnetwork', 'foodgod', 'foodandwine', 'food', 'food_factors', 'buzzfeedfood', 'foodys', 'diyfoodys', 'foodeducationfund', 'majorfoodgroup', 'foodwithmichel', 'foodinsider', 'mumbaifoodie', 'foodiemagician', 'trimeats', 'foodfightabc', 'lafoodfest', 'nyfoodsharings', 'fitfoodjkt', 'hazelzakariya', 'wholefoods', 'snacksaftersundown', 'somastreatfoodpark', 'foodbutler', 'foodnetworkkitchen', 'foodwellmcr', 'love_food', 'besar_food', 'foodstirs', 'jewishfood', 'thefoodbabe', 'foodjuiceandmore', 'foodtipz', 'shugarysweets', 'clerkenwellboyec1', 'foodieliciousfood', 'foodiefoodlover', 'fastfood_insider', 'impossible_foods', 'questlovesfood', 'foodbabyny', 'tidymom', 'albaik', 'cchannel_food_id', 'dailyfoodfeed', 'food52', 'worldfoodprogramme', 'lottie_tots_loves_food']\n"
     ]
    }
   ],
   "source": [
    "print(foodhandels_usernames)"
   ]
  },
  {
   "cell_type": "code",
   "execution_count": 103,
   "metadata": {},
   "outputs": [
    {
     "name": "stdout",
     "output_type": "stream",
     "text": [
      "dilsefoodie\n",
      "foodtalkindia\n",
      "yourfoodlab\n",
      "foodnetwork\n",
      "foodgod\n",
      "foodandwine\n",
      "food\n",
      "food_factors\n",
      "buzzfeedfood\n",
      "foodys\n",
      "diyfoodys\n",
      "foodeducationfund\n",
      "majorfoodgroup\n",
      "foodwithmichel\n",
      "foodinsider\n",
      "mumbaifoodie\n",
      "foodiemagician\n",
      "trimeats\n",
      "foodfightabc\n",
      "lafoodfest\n",
      "nyfoodsharings\n",
      "fitfoodjkt\n",
      "hazelzakariya\n",
      "wholefoods\n",
      "snacksaftersundown\n",
      "somastreatfoodpark\n",
      "foodbutler\n",
      "foodnetworkkitchen\n",
      "foodwellmcr\n",
      "love_food\n",
      "besar_food\n",
      "foodstirs\n",
      "jewishfood\n",
      "thefoodbabe\n",
      "foodjuiceandmore\n",
      "foodtipz\n",
      "shugarysweets\n",
      "clerkenwellboyec1\n",
      "foodieliciousfood\n",
      "foodiefoodlover\n",
      "fastfood_insider\n",
      "impossible_foods\n",
      "questlovesfood\n",
      "foodbabyny\n",
      "tidymom\n",
      "albaik\n",
      "cchannel_food_id\n",
      "dailyfoodfeed\n",
      "food52\n",
      "worldfoodprogramme\n",
      "lottie_tots_loves_food\n"
     ]
    }
   ],
   "source": [
    "foodhandels() # calling function\n"
   ]
  },
  {
   "cell_type": "markdown",
   "metadata": {},
   "source": [
    "## 3.Searching and Opening a profile using "
   ]
  },
  {
   "cell_type": "markdown",
   "metadata": {},
   "source": [
    "## 1.Open profile of “So Delhi” "
   ]
  },
  {
   "cell_type": "code",
   "execution_count": 8,
   "metadata": {},
   "outputs": [],
   "source": [
    "def OpenPage(name):      #function to open any page on instagra\n",
    "    driver.get(\"https://www.instagram.com/\")\n",
    "    search_text=driver.find_element_by_css_selector('#react-root > section > nav > div._8MQSO.Cx7Bp > div > div > div.LWmhU._0aCwM > input')\n",
    "    search_text.send_keys(name)\n",
    "    driver.implicitly_wait(5)\n",
    "    btn=driver.find_element_by_class_name(\"Ap253\").click() #clicks on the first search username\n",
    "    "
   ]
  },
  {
   "cell_type": "code",
   "execution_count": 17,
   "metadata": {},
   "outputs": [
    {
     "name": "stderr",
     "output_type": "stream",
     "text": [
      "/Users/atharvjairath/anaconda3/lib/python3.7/site-packages/selenium/webdriver/remote/webdriver.py:621: UserWarning: find_element_by_* commands are deprecated. Please use find_element() instead\n",
      "  warnings.warn(\"find_element_by_* commands are deprecated. Please use find_element() instead\")\n"
     ]
    }
   ],
   "source": [
    "OpenPage(\"So Delhi\") #calling function"
   ]
  },
  {
   "cell_type": "markdown",
   "metadata": {},
   "source": [
    "## 4.Follow/Unfollow given handle "
   ]
  },
  {
   "cell_type": "markdown",
   "metadata": {},
   "source": [
    "### 2.Start following it. Print a message if you are already following"
   ]
  },
  {
   "cell_type": "code",
   "execution_count": 6,
   "metadata": {
    "scrolled": true
   },
   "outputs": [],
   "source": [
    "\n",
    "def So_delhi_follow():  #function to follow so delhi\n",
    "    OpenPage(\"So Delhi\")\n",
    "    driver.implicitly_wait(3)\n",
    "    btn=driver.find_element_by_css_selector('#react-root > section > main > div > header > section > div.nZSzR > div.Igw0E.IwRSH.eGOV_._4EzTm > span > span.vBF20._1OSdk > button').text\n",
    "    if btn!=\"Follow\":    #checking if you already follow so delhi or not\n",
    "        print(\"You have already followed  So Delhi\")\n",
    "        return \n",
    "    btn.click()    #if not then it follows\n"
   ]
  },
  {
   "cell_type": "code",
   "execution_count": 17,
   "metadata": {},
   "outputs": [
    {
     "name": "stderr",
     "output_type": "stream",
     "text": [
      "/Users/atharvjairath/anaconda3/lib/python3.7/site-packages/selenium/webdriver/remote/webdriver.py:621: UserWarning: find_element_by_* commands are deprecated. Please use find_element() instead\n",
      "  warnings.warn(\"find_element_by_* commands are deprecated. Please use find_element() instead\")\n"
     ]
    },
    {
     "name": "stdout",
     "output_type": "stream",
     "text": [
      "You have already followed  So Delhi\n"
     ]
    }
   ],
   "source": [
    "So_delhi_follow() #calling the function"
   ]
  },
  {
   "cell_type": "code",
   "execution_count": 29,
   "metadata": {},
   "outputs": [],
   "source": [
    "def So_delhi_unfollow():     # to unfollow So_delhi\n",
    "    Sodelhi()\n",
    "    driver.implicitly_wait(3)\n",
    "    btn=driver.find_element_by_css_selector('#react-root > section > main > div > header > section > div.nZSzR > div.Igw0E.IwRSH.eGOV_._4EzTm > span > span.vBF20._1OSdk > button')\n",
    "    btn_text=btn.text\n",
    "    if btn_text==\"Follow\":  #checking if its unfollowed or not\n",
    "        print(\"You have already Unfollowed So Delhi\")\n",
    "        return \n",
    "    btn.click()   \n",
    "    unfollow=driver.find_element_by_css_selector(\"body > div.RnEpo.Yx5HN > div > div > div.mt3GC > button.aOOlW.-Cab_\").click() #unfollows if we dont"
   ]
  },
  {
   "cell_type": "code",
   "execution_count": 31,
   "metadata": {},
   "outputs": [
    {
     "name": "stdout",
     "output_type": "stream",
     "text": [
      "You have already followed  So Delhi\n"
     ]
    }
   ],
   "source": [
    "So_delhi_unfollow() #function to unfollow "
   ]
  },
  {
   "cell_type": "markdown",
   "metadata": {},
   "source": [
    "## 5. Like/Unlike posts"
   ]
  },
  {
   "cell_type": "markdown",
   "metadata": {},
   "source": [
    " ### 5.1 Liking the top 30 posts of the ‘dilsefoodie'. Print message if you have already liked it."
   ]
  },
  {
   "cell_type": "code",
   "execution_count": 85,
   "metadata": {},
   "outputs": [],
   "source": [
    "def first_picture():  #function to open the first picture\n",
    "    pic = driver.find_element_by_class_name(\"_9AhH0\") \n",
    "    pic.click() \n"
   ]
  },
  {
   "cell_type": "code",
   "execution_count": 86,
   "metadata": {},
   "outputs": [],
   "source": [
    "def like_pic(i): #likes the picture\n",
    "    time.sleep(4) \n",
    "    like_btn=driver.find_element_by_css_selector(\"body > div._2dDPU.CkGkG > div.zZYga > div > article > div.eo2As > section.ltpMr.Slqrh > span.fr66n > button > svg\") \n",
    "    if like_btn.get_attribute(\"aria-label\")=='Unlike':  #tells us what post has been already liked\n",
    "        print(\"Post NO.\",i,\" been already liked.\")\n",
    "    else:    \n",
    "        like_btn.click()  # if not liked the it likes the pic\n"
   ]
  },
  {
   "cell_type": "code",
   "execution_count": 87,
   "metadata": {},
   "outputs": [],
   "source": [
    "def next_picture(i): #opens next post\n",
    "    time.sleep(2) \n",
    "    if i==1:                                #Since next and prevoius button had same class\n",
    "        Next=driver.find_elements_by_css_selector(\"body > div._2dDPU.CkGkG > div.EfHg9 > div > div > a\")[0]  #Next button for first post   \n",
    "    else:\n",
    "         Next=driver.find_elements_by_css_selector(\"body > div._2dDPU.CkGkG > div.EfHg9 > div > div > a\")[1] #Next button for all other posts  also having previous button too\n",
    "        \n",
    "    return Next\n"
   ]
  },
  {
   "cell_type": "code",
   "execution_count": 93,
   "metadata": {},
   "outputs": [],
   "source": [
    "def next_post_like(num):\n",
    "    i=1\n",
    "    while(True):              #loop to keep liking next posts\n",
    "        next_el = next_picture(i) \n",
    "        if i< num: \n",
    "            next_el.click() #function call\n",
    "            time.sleep(2) \n",
    "            like_pic(i+1) #function call\n",
    "            i=i+1\n",
    "        else: \n",
    "            print(\"Top\",num,\"Post Liked\") \n",
    "            break\n"
   ]
  },
  {
   "cell_type": "code",
   "execution_count": 90,
   "metadata": {},
   "outputs": [
    {
     "name": "stdout",
     "output_type": "stream",
     "text": [
      "Post NO. 1  been already liked.\n",
      "Post NO. 2  been already liked.\n",
      "Post NO. 3  been already liked.\n",
      "Post NO. 4  been already liked.\n",
      "Post NO. 5  been already liked.\n",
      "Post NO. 6  been already liked.\n",
      "Post NO. 7  been already liked.\n",
      "Post NO. 8  been already liked.\n",
      "Post NO. 9  been already liked.\n",
      "Post NO. 10  been already liked.\n",
      "Post NO. 11  been already liked.\n",
      "Post NO. 12  been already liked.\n",
      "Post NO. 13  been already liked.\n",
      "Post NO. 14  been already liked.\n",
      "Post NO. 15  been already liked.\n",
      "Post NO. 16  been already liked.\n",
      "Post NO. 17  been already liked.\n",
      "Post NO. 18  been already liked.\n",
      "Post NO. 19  been already liked.\n",
      "Post NO. 20  been already liked.\n",
      "Post NO. 21  been already liked.\n",
      "Post NO. 22  been already liked.\n",
      "Post NO. 23  been already liked.\n",
      "Top 30 Post Liked\n"
     ]
    }
   ],
   "source": [
    "OpenPage(\"dilsefoodie\")\n",
    "time.sleep(2)\n",
    "first_picture()\n",
    "like_pic(1) \n",
    "next_post_like(30)\n"
   ]
  },
  {
   "cell_type": "markdown",
   "metadata": {},
   "source": [
    "### 5.2 Unliking the top 30 posts of the ‘dilsefoodie’. Print message if you have already unliked it."
   ]
  },
  {
   "cell_type": "code",
   "execution_count": 94,
   "metadata": {},
   "outputs": [],
   "source": [
    "def Unlike_pic(i):  #sae fucntion as like one instead it unlikes\n",
    "    time.sleep(4) \n",
    "    like_btn=driver.find_element_by_css_selector(\"body > div._2dDPU.CkGkG > div.zZYga > div > article > div.eo2As > section.ltpMr.Slqrh > span.fr66n > button > svg\") \n",
    "    if like_btn.get_attribute(\"aria-label\")=='like':\n",
    "        print(\"Post NO.\",i,\" is already Unliked.\")\n",
    "    else:    \n",
    "        like_btn.click() "
   ]
  },
  {
   "cell_type": "code",
   "execution_count": 100,
   "metadata": {},
   "outputs": [],
   "source": [
    "def next_post_unlike(num):  #function to go to next post\n",
    "    i=1\n",
    "    while(True):\n",
    "        next_el = next_picture(i) \n",
    "        if i< num: \n",
    "            next_el.click()    #already explained\n",
    "            time.sleep(2) \n",
    "            Unlike_pic(i+1)\n",
    "            i=i+1\n",
    "        else: \n",
    "            print(\"Top\",num,\"Post Un-liked\") \n",
    "            break\n"
   ]
  },
  {
   "cell_type": "code",
   "execution_count": 101,
   "metadata": {},
   "outputs": [
    {
     "name": "stdout",
     "output_type": "stream",
     "text": [
      "Top 30 Post Un-liked\n"
     ]
    }
   ],
   "source": [
    "OpenPage(\"dilsefoodie\")\n",
    "time.sleep(2)                    #allfunction calls to get the deisred result in one click\n",
    "first_picture()\n",
    "Unlike_pic(1)\n",
    "next_post_unlike(30)\n"
   ]
  },
  {
   "cell_type": "markdown",
   "metadata": {},
   "source": [
    "## 6. Extract list of followers"
   ]
  },
  {
   "cell_type": "markdown",
   "metadata": {},
   "source": [
    "### 6.1 Extract the usernames of the first 500 followers of ‘foodtalkindia’ and ‘sodelhi’."
   ]
  },
  {
   "cell_type": "code",
   "execution_count": 34,
   "metadata": {},
   "outputs": [],
   "source": [
    "def Follower_extractor_500(username):\n",
    "    OpenPage(username)  #calls OpenPage function to open page\n",
    "    wait = WebDriverWait(driver, 10)  \n",
    "    followers_button = wait.until(EC.presence_of_element_located((By.XPATH,'//a[contains(@class,\"-nal3\")]')))   #follower button\n",
    "    followers_button.click()\n",
    "    flag = False\n",
    "    while True:\n",
    "        p = driver.find_element_by_class_name('isgrP')                                           #follower page\n",
    "        p.click()\n",
    "        driver.find_element_by_tag_name('body').send_keys(Keys.END)                              #moving to end of page\n",
    "        if flag == False:\n",
    "            for i in range(6):\n",
    "                driver.find_element_by_tag_name('body').send_keys(Keys.PAGE_UP)                  #make 6 time page up to remove first suggestion\n",
    "                time.sleep(1)\n",
    "            flag = True\n",
    "        time.sleep(1)\n",
    "        p = driver.find_element_by_class_name('isgrP')                                          #follwer page\n",
    "        p.click()\n",
    "        follower_list = driver.find_elements_by_xpath('//div[@class = \"isgrP\"]/ul/div/li')      #folllower list\n",
    "        if len(follower_list) >= 500:\n",
    "            break\n",
    "    li = []\n",
    "    j=0\n",
    "    names = []\n",
    "    for i in follower_list:\n",
    "        data = BeautifulSoup(i.get_attribute('innerHTML'),'html')                            #getting innerHTML with help of Beautifulsoup\n",
    "        li.append(data.a['href'].split('/')[1])                                              #using User link to get usernames\n",
    "        names.append(data.a['href'].split('/')[1])                                           #slpitting link ot get just the username\n",
    "        j+=1\n",
    "        if j==500:\n",
    "            break\n",
    "    print(len(names))\n",
    "    for i in names:\n",
    "        print(i)\n",
    "        "
   ]
  },
  {
   "cell_type": "code",
   "execution_count": 35,
   "metadata": {},
   "outputs": [
    {
     "name": "stdout",
     "output_type": "stream",
     "text": [
      "500\n",
      "littlewindowbigdreams\n",
      "sophiagomes92\n",
      "b.se.baklol\n",
      "juneadchoudahr\n",
      "aakashprateik\n",
      "yin9989\n",
      "quotes_book_world.in\n",
      "_priyanka_dikonda_\n",
      "kartik.nirman\n",
      "pratiksh960\n",
      "amandaudzai\n",
      "shreyaverma.30\n",
      "akshataparul04\n",
      "chasseur_des_bois\n",
      "aaishabella\n",
      "dr.jyoti_sharmaa\n",
      "gta_lakshya\n",
      "hayer_parm_91\n",
      "naam_hai_som\n",
      "abhinav_abr\n",
      "nvgxruibxdrin\n",
      "ritish.me\n",
      "rahulskitchen_og\n",
      "the.bakaitbaaz\n",
      "anjali.official\n",
      "riyaayy\n",
      "prafful_99\n",
      "ankita.ghadi.5494\n",
      "prabhumehta_\n",
      "banished.ecstasy\n",
      "_dakshita_sharma_\n",
      "the.tanushmita.narang\n",
      "sanam_sbw\n",
      "lakshay_1080\n",
      "aaman299\n",
      "tanyadhingra_10_\n",
      "yours_happily\n",
      "_rishugoyal_\n",
      "singhpanesargurpreet\n",
      "bhumiyachawla13\n",
      "gaba_parveen_\n",
      "sainidevika\n",
      "theperspicaciouscompanion\n",
      "ritikgarg012\n",
      "minzpreeti\n",
      "aggrawal7134\n",
      "talib.moin.7\n",
      "rose_of_sharon.11\n",
      "rishabhbatra_photography\n",
      "malakarshreya\n",
      "gautamrachna05\n",
      "yashika.idk\n",
      "abdulsamadmolli\n",
      "parthh_malhotra\n",
      "asmita_khanna\n",
      "shootguru\n",
      "tannyaa11\n",
      "_.agrim\n",
      "sublime_shot\n",
      "maneesh_4\n",
      "dhruv_pal21\n",
      "sahilgaba79\n",
      "dixit.kumbhani\n",
      "oishi2611\n",
      "quotesandproverbs28\n",
      "subaranas\n",
      "vipulbhatt75\n",
      "bubble1892\n",
      "aartib28\n",
      "madhuriiima\n",
      "prernasachdevaaa\n",
      "ditesh0100\n",
      "thesavourygrub\n",
      "afreenalii\n",
      "harshitaasharmaa_\n",
      "share_your_feelings2020\n",
      "dubeyvivekkumardubey\n",
      "telegraphytales\n",
      "kevinbansal9\n",
      "fazal__rehan\n",
      "mindrunway\n",
      "pixie_dust_kreation\n",
      "coder_who_cooks\n",
      "shrutisaxena20\n",
      "nivetha1572\n",
      "randomaart\n",
      "sakshibajaj99\n",
      "scribbled_quotes.u\n",
      "deliciousdestinations\n",
      "harshsriv.08\n",
      "nihu_024\n",
      "hitali_panwar\n",
      "anokha.nazariya\n",
      "paridhi.j\n",
      "amninder_vohra_\n",
      "sajadnabimir\n",
      "random_uploads16\n",
      "lockdownmasterchef2020\n",
      "drapmeonline\n",
      "metanoiainframes\n",
      "jaipurshoutout2019\n",
      "bhardwwaj_nishant\n",
      "123_kash\n",
      "tulasidaspai\n",
      "__sagarwal__\n",
      "bcmeme_2126\n",
      "abhi.banga_\n",
      "deepak0092\n",
      "shivani__20.01\n",
      "kanchanhatwal17213\n",
      "sha__swat007\n",
      "abhishek.gupta90\n",
      "srishh__t_02\n",
      "siddhantsagar\n",
      "chill_n_chull\n",
      "dev_en_dra\n",
      "imrahulmaddheshiya\n",
      "deepak_shar3a\n",
      "roshni.gariya\n",
      "in.harshalgupta\n",
      "enteradesigne\n",
      "hikeingwithme\n",
      "simar_shooter\n",
      "omyronshwal\n",
      "shanayaoberio2\n",
      "nehadahmad7\n",
      "vexplorers.in\n",
      "sava.lakh\n",
      "ambalal.jain.obain\n",
      "riya.sharma160\n",
      "ruhi_sinhaa\n",
      "jain_yakshi\n",
      "gill_suraj1998\n",
      "bar_sha_roy\n",
      "gabber661\n",
      "agirlondelhimetro\n",
      "rahul.m24\n",
      "nainamk\n",
      "user_pages\n",
      "khaana_rozana\n",
      "soniya_krishna_\n",
      "sunny_yadav_sunny\n",
      "khalid.kd.1069\n",
      "foodie_tune_indore\n",
      "0_1_palak\n",
      "_attrihoney_\n",
      "me.neha2k2\n",
      "kaustavdey_23\n",
      "devashi_aggarwal11\n",
      "gaurav_7032\n",
      "nervousplanetbubble\n",
      "prernaverma48\n",
      "devansh.sehgal\n",
      "mohitpal7582\n",
      "pisthieee\n",
      "sajan.nigam.39\n",
      "kunar8505\n",
      "s4sumitd4dahiya\n",
      "ashraf78630\n",
      "shikha_697\n",
      "klutzykiara\n",
      "debolinadevnath\n",
      "nehayadav.nk123\n",
      "raj_shubham_\n",
      "sparsh_153\n",
      "sanjayrajput9718\n",
      "_alvi_1998\n",
      "iamadhil\n",
      "sai_likhitha_gs\n",
      "shabib_shaikh786\n",
      "_shivamgrover\n",
      "jyoti.mittal.5437\n",
      "hmaheshwari6\n",
      "shripal6158\n",
      "aymanzuha\n",
      "theeyefocus\n",
      "muhammadyusuf2133\n",
      "pavan_renge_patil\n",
      "iamaasthakaushik\n",
      "shree_k15\n",
      "foodiejunction98\n",
      "alwaysbruffon\n",
      "davinkaur30\n",
      "singhal9751\n",
      "feed_the_needy980\n",
      "ishita902\n",
      "gurpreet_._.1\n",
      "jyotiorator\n",
      "quotes__.day\n",
      "prateethi\n",
      "shubhiiix_pvttt\n",
      "pagal_kalakaarr\n",
      "sharma45054505\n",
      "piczones\n",
      "sharma_bharti99\n",
      "saurbh5554\n",
      "kanishq_basoya_delhi0005\n",
      "sabmohmayahai_23\n",
      "kajal_777\n",
      "shrestha_nanda\n",
      "the.foodiee.vogue\n",
      "rahulmeena1_2_3\n",
      "talk_less_word\n",
      "asous13asous\n",
      "surbhiaroraaaa\n",
      "kishan_thakre\n",
      "voyagedairy\n",
      "kashina_chadha\n",
      "anjalisainii\n",
      "dev_adhikary19\n",
      "vandana.s66\n",
      "_saadzaidi_\n",
      "varshney_vrinda\n",
      "b_nehaaa\n",
      "_rai_archana\n",
      "dhananjaydubey_132\n",
      "trisha.verma12\n",
      "akhilvijan\n",
      "ninaniyaritik\n",
      "high_flame_\n",
      "the_urbanyogi\n",
      "amaan_khan07\n",
      "adashandasplash\n",
      "khush.2922\n",
      "sara2.00015\n",
      "archieambastha\n",
      "nidhim737\n",
      "mohitagarwal6160\n",
      "anaskalii\n",
      "deeks.gulati\n",
      "sidmehta__\n",
      "latikasha2393\n",
      "omaymn25amil\n",
      "ayushi.grg\n",
      "mjadvani\n",
      "s_o_n_i_a_2_8\n",
      "nayangupta_photography\n",
      "abhiarkal\n",
      "ciel_sombre_\n",
      "jeezcr\n",
      "ali_boy_01\n",
      "bu.nty949\n",
      "theconfessionzoneofficial\n",
      "shorrya_v_bansal\n",
      "dr.ayushi_jain\n",
      "mallikaa_kapoor\n",
      "vishal5889sharma\n",
      "kanchansisodia\n",
      "orangespaces\n",
      "rajnik2094\n",
      "_anshika26\n",
      "abdullah19_26\n",
      "am.isha1105\n",
      "blc177\n",
      "ashokkumargupta9370\n",
      "paulami_96\n",
      "neerajfurniture\n",
      "nandinix2\n",
      "heartsayssomething\n",
      "charandeep.kaur_\n",
      "utsav.singh.9977\n",
      "fernculinary\n",
      "sahilkain\n",
      "just_mellow_vibes\n",
      "jaineraddu\n",
      "pre_rrrna__\n",
      "abhishkgoel\n",
      "sunita.aggarwal.75\n",
      "i_mehakchugh\n",
      "aanchalgupta23\n",
      "rahulwhotravels\n",
      "_ac_words\n",
      "sameer.rawat04\n",
      "mom_to_munchkins\n",
      "sushilyadav1251\n",
      "kanika01sharma\n",
      "pra28teek\n",
      "doel842\n",
      "mohankanika\n",
      "hz_life_quote\n",
      "fit_samra\n",
      "riyaroykumar\n",
      "divyanshu.95\n",
      "saanaasiddiqui\n",
      "ayysshhaa._\n",
      "priyanka.2845\n",
      "latika_saurot\n",
      "sagarikaaa21\n",
      "kajal_mahich\n",
      "mjay3.0\n",
      "ritunerraj\n",
      "iamrohanverma\n",
      "im_affan91\n",
      "epic_humorous_stuff\n",
      "rayyane110\n",
      "shayamrik\n",
      "sid_click_s\n",
      "m_a_n_i_s_h_a_c\n",
      "sanchit_sharma92\n",
      "theabhaygupta_\n",
      "kaulhimkaul\n",
      "eishaan.swami\n",
      "cookwithshwe\n",
      "vikramkumar8632\n",
      "piyush94mishra\n",
      "anamikasingh3631\n",
      "rajeshchoursiya4455\n",
      "nomadic_jia\n",
      "offtrack_25\n",
      "rajni.nagpal1966\n",
      "bababakhcohod\n",
      "happyycalories\n",
      "ak.3.nigam\n",
      "notsogregariousgirl\n",
      "socialthump\n",
      "nancysharma1994\n",
      "revamaheshwari\n",
      "_tanu.mudadh_\n",
      "dalipkumar27893\n",
      "__rish_x\n",
      "monisharma5165\n",
      "ritik_kejriwal\n",
      "the_munching_station\n",
      "issasecac\n",
      "preetiyadav_31\n",
      "ghaisparsh\n",
      "mrunali_jariwala\n",
      "garima.gaur.9\n",
      "_doordarshan_\n",
      "ashijain2998\n",
      "quotesbumi\n",
      "abhishekasiwal_\n",
      "pulkitgarg2000\n",
      "_.foodie.goodie._\n",
      "as.hish42\n",
      "foodonstreetlover\n",
      "riyagulatiii\n",
      "ohheyyitsria\n",
      "aseem._.v\n",
      "10__tonight.gamer__10\n",
      "doctor_chef__\n",
      "nehauppal3\n",
      "monarches_nc\n",
      "raithathamanisha\n",
      "jayant.bhargava\n",
      "sheena.bhandari17\n",
      "qedcommunications\n",
      "manumishraa0307\n",
      "shagunn90\n",
      "girly_foodista\n",
      "eating_for_fun\n",
      "kaushiksupriya\n",
      "jatinrohira\n",
      "preetii.sharma_\n",
      "lakshmidas.5\n",
      "harshitabhatnagarr\n",
      "sanss_09\n",
      "soindia_\n",
      "sard.arni606\n",
      "webfoodlounge\n",
      "itstanishaganguli\n",
      "nalluriprasanna\n",
      "mushtaqahmadallie\n",
      "divyasingh_94\n",
      "_baanik\n",
      "theaayojan\n",
      "mansiiiiii_1503\n",
      "ad.nankhan9011\n",
      "rahulkumarrahulkumar1356\n",
      "delhi_top_modals_\n",
      "sarfarajjivani\n",
      "raniaomrane_1\n",
      "bhatia_rohit\n",
      "shoungrufraina\n",
      "rebel__akshit\n",
      "alpana8669\n",
      "_sanzzzzzz\n",
      "singh2019kuldeep2019\n",
      "jitinn_23\n",
      "firstlightcompany\n",
      "champchandansharma\n",
      "notoriousjai\n",
      "manish4life__\n",
      "piyu_2117\n",
      "kaushal.sen2000\n",
      "siddhi4899\n",
      "escortservices8\n",
      "smriti._srivastava\n",
      "ekam_kohli\n",
      "animesh_sen_912\n",
      "dannyypvt\n",
      "dohare.ajay95\n",
      "rishabhvashishthh\n",
      "kanupreet_k_08\n",
      "priya_0197\n",
      "nk_photography_indore\n",
      "itzmepriyanka\n",
      "lyrics_vidio\n",
      "amanrawat_19\n",
      "mohini_sharma012\n",
      "shivangi.rai2\n",
      "explorer.alone\n",
      "quarantinetarantinoisme\n",
      "shinexcarspa\n",
      "vaibhav_vashistha02\n",
      "nightcrave1\n",
      "_anshikajain_\n",
      "lockdownn2.0\n",
      "shilpa.garg73\n",
      "shivam_singh822\n",
      "jessicakohli1515\n",
      "saintly_storm\n",
      "sanzie_17\n",
      "distanced_socially\n",
      "garima_s_ng\n",
      "fortnite.official_88\n",
      "ranjeetkumarpaswanp\n",
      "focus_token\n",
      "samridhkalra03\n",
      "masham_05\n",
      "travellerofindia\n",
      "siddharth_bhardwajj\n",
      "phrasesillustrati\n",
      "nit_yaaa\n",
      "happykaushal83\n",
      "a.b.h.i.n.a.v_kumar\n",
      "jasmine.verma9\n",
      "fk4oficial\n",
      "tanmayata__naithani\n",
      "parasleoarora\n",
      "the_optimist_kodalikkaran\n",
      "monika_310\n",
      "naughty_choi\n",
      "nupurkalra11\n",
      "nikita.mohta.18\n",
      "riyanahata.99\n",
      "bambibhalla\n",
      "mariyamsiddiqui26\n",
      "ahida26\n",
      "rsb__offical\n",
      "swastikadas95\n",
      "saburi004\n",
      "hansbhumika\n",
      "anniepenniee\n",
      "dolce.pc\n",
      "a.s.t.h.a_g.o.y.a.l\n",
      "siddhant_nalbe_\n",
      "freeee_sol\n",
      "musumusuhaasi\n",
      "arpan.jain53\n",
      "aman_kochar.ak\n",
      "pratiksha_________\n",
      "meme_box_of_aj\n",
      "dhruvgupta25\n",
      "ranveer.dhillonnn\n",
      "shaanmalik9\n",
      "foodstories_._\n",
      "maxim.dorky\n",
      "alanwalkerft\n",
      "in.a.library\n",
      "saiyed_raz_alvi\n",
      "official_vishaldhankhar_\n",
      "manish.prajapat.754570\n",
      "surendra.rana.315080\n",
      "ustaad_g001\n",
      "anonymous333628\n",
      "memeyoholic\n",
      "sp75856\n",
      "hafza_aiza\n",
      "shrutis1621\n",
      "kajaljain13\n",
      "abhishek_singh_0304\n",
      "true.living1603\n",
      "pratikdeb007\n",
      "riyachoco\n",
      "prernajha93\n",
      "ashuralhan\n",
      "ummaykulsoom_\n",
      "the_lost_chef_0\n",
      "geetamanna\n",
      "bhavani.sankula\n",
      "aadillone78\n",
      "valar._.morghuliss\n",
      "knowledgeswami\n",
      "sonudc4\n",
      "poojagour43\n",
      "walkwithtaste\n",
      "arpita.chakraborty.9615\n",
      "sg.gulati\n",
      "hamz.ans\n",
      "rashmisinha821\n",
      "alvinasaji37\n",
      "thebakehouse20\n",
      "diksha_sharma.30\n",
      "_pee__hu_\n",
      "antraagarwal24\n",
      "foodbazz.bd\n",
      "kannnuuuhuhu\n",
      "__un_said_\n",
      "vanshika.agarwal1997\n"
     ]
    }
   ],
   "source": [
    "Follower_extractor_500(\"Sodelhi\")    # to find 500 followers of Sodelhi"
   ]
  },
  {
   "cell_type": "code",
   "execution_count": null,
   "metadata": {},
   "outputs": [],
   "source": [
    "Follower_extractor_500(\"foodtalkindia\") # to find 500 followers of foodtalkindia"
   ]
  },
  {
   "cell_type": "markdown",
   "metadata": {},
   "source": [
    "### 6.2 Now print all the followers of “foodtalkindia” that you are following but those who don’t follow you."
   ]
  },
  {
   "cell_type": "code",
   "execution_count": 55,
   "metadata": {},
   "outputs": [],
   "source": [
    "def Followers_i_follow(username):\n",
    "    OpenPage(username)\n",
    "    wait = WebDriverWait(driver, 10)  \n",
    "    followers_button = wait.until(EC.presence_of_element_located((By.XPATH,'//a[contains(@class,\"-nal3\")]')))   #follower button\n",
    "    followers_button.click()\n",
    "    flag = False\n",
    "    while True:\n",
    "        p = driver.find_element_by_class_name('isgrP')                                           #follower page\n",
    "        p.click()\n",
    "        driver.find_element_by_tag_name('body').send_keys(Keys.END)                              #moving to end of page\n",
    "        if flag == False:\n",
    "            for i in range(6):\n",
    "                driver.find_element_by_tag_name('body').send_keys(Keys.PAGE_UP)                  #make 6 time page up to remove first suggestion\n",
    "                time.sleep(1)\n",
    "            flag = True\n",
    "        time.sleep(1)\n",
    "        p = driver.find_element_by_class_name('isgrP')                                          #follwer page\n",
    "        p.click()\n",
    "        follower_list = driver.find_elements_by_xpath('//div[@class = \"isgrP\"]/ul/div/li')      #folllower list\n",
    "        if len(follower_list) >= 20:                                                            # 20 cause i follow 20 people only \n",
    "            break\n",
    "    li = []\n",
    "    j=0\n",
    "    names = []\n",
    "    for i in follower_list:\n",
    "        data = BeautifulSoup(i.get_attribute('innerHTML'),'html')\n",
    "        li.append(data.a['href'].split('/')[1])\n",
    "        names.append(data.a['href'].split('/')[1])\n",
    "        j+=1\n",
    "        if j==500:\n",
    "            break\n",
    "    i=0;\n",
    "    following=[]\n",
    "    for p in follower_list:\n",
    "        data = BeautifulSoup(p.get_attribute('innerHTML'),'html')\n",
    "        if data.button.text==\"Following\":                                #only printing usernames i am following.\n",
    "            following.append(names[i])\n",
    "            print(names[i]) \n",
    "        i=i+1\n",
    "    return following    \n",
    "        "
   ]
  },
  {
   "cell_type": "code",
   "execution_count": 57,
   "metadata": {},
   "outputs": [
    {
     "name": "stdout",
     "output_type": "stream",
     "text": [
      "chef_aadil_\n",
      "mommyjaffer\n",
      "manishabishtt\n",
      "tramontinaindia\n",
      "deepz_beatz_official\n"
     ]
    }
   ],
   "source": [
    "foodtalkindia_followers=Followers_i_follow(\"foodtalkindia\") # to find followers i follow from foodtalkindia followers."
   ]
  },
  {
   "cell_type": "markdown",
   "metadata": {},
   "source": [
    "### Now i will make a followers list of my followers too"
   ]
  },
  {
   "cell_type": "code",
   "execution_count": 50,
   "metadata": {},
   "outputs": [],
   "source": [
    "def myfollowers(username):\n",
    "    OpenPage(username)\n",
    "    wait = WebDriverWait(driver, 10)  \n",
    "    followers_button = wait.until(EC.presence_of_element_located((By.XPATH,'//a[contains(@class,\"-nal3\")]')))   #follower button\n",
    "    followers_button.click()\n",
    "    flag = False\n",
    "    while True:\n",
    "        p = driver.find_element_by_class_name('isgrP')                                           #follower page\n",
    "        p.click()\n",
    "        driver.find_element_by_tag_name('body').send_keys(Keys.END)                              #moving to end of page\n",
    "        if flag == False:\n",
    "            for i in range(2):\n",
    "                driver.find_element_by_tag_name('body').send_keys(Keys.PAGE_UP)               \n",
    "                time.sleep(1)\n",
    "            flag = True\n",
    "        time.sleep(1)\n",
    "        p = driver.find_element_by_class_name('isgrP')                                          #follwer page\n",
    "        p.click()\n",
    "        follower_list = driver.find_elements_by_xpath('//div[@class = \"isgrP\"]/ul/div/li')      #folllower list\n",
    "        if len(follower_list) >= 14:                                                            # 14 cause i follow 14 people only \n",
    "            break\n",
    "    li = []\n",
    "    j=0\n",
    "    names = []\n",
    "    for i in follower_list:\n",
    "        data = BeautifulSoup(i.get_attribute('innerHTML'),'html')\n",
    "        li.append(data.a['href'].split('/')[1])\n",
    "        names.append(data.a['href'].split('/')[1])\n",
    "        j+=1\n",
    "        if j==14:\n",
    "            break\n",
    "    i=0;\n",
    "    following=[]\n",
    "    for p in follower_list:\n",
    "        data = BeautifulSoup(p.get_attribute('innerHTML'),'html')\n",
    "        following.append(names[i])\n",
    "        print(names[i]) \n",
    "        i=i+1\n",
    "    return following \n",
    "    \n",
    "    "
   ]
  },
  {
   "cell_type": "code",
   "execution_count": 51,
   "metadata": {},
   "outputs": [
    {
     "name": "stdout",
     "output_type": "stream",
     "text": [
      "supekarj\n",
      "khanvasid734\n",
      "vaibhavjadhav615\n",
      "tushar.gund009\n",
      "itz_shubhamsupekar502_offical_\n",
      "parmarbharat153\n",
      "manraj.prajapat.3110\n",
      "kirti_bandhu\n",
      "vijay_shinde_4249\n",
      "_ahnanya__\n",
      "shraman.jain\n",
      "jatindua30\n",
      "anup8318\n",
      "dhinchak_atharv\n"
     ]
    }
   ],
   "source": [
    "my_followers=myfollowers(\"your username goes here\") #enter your username"
   ]
  },
  {
   "cell_type": "code",
   "execution_count": 61,
   "metadata": {},
   "outputs": [
    {
     "name": "stdout",
     "output_type": "stream",
     "text": [
      "No follows You Back\n"
     ]
    }
   ],
   "source": [
    "flag=False\n",
    "for user in foodtalkindia_followers:\n",
    "    if user in my_followers:\n",
    "        flag=True\n",
    "        print(user)\n",
    "if flag==False:\n",
    "    print(\"No follows You Back\")"
   ]
  },
  {
   "cell_type": "markdown",
   "metadata": {},
   "source": [
    "## 7. Check the story of ‘coding.ninjas’."
   ]
  },
  {
   "cell_type": "markdown",
   "metadata": {},
   "source": [
    "### 7.1 If You have already seen the story.\n",
    "### 7.2 Or The user has no story.\n",
    "### 7.3 Or View the story if not yet seen."
   ]
  },
  {
   "cell_type": "code",
   "execution_count": 70,
   "metadata": {},
   "outputs": [
    {
     "name": "stdout",
     "output_type": "stream",
     "text": [
      "Not checked the story yet\n",
      "Seen the story\n"
     ]
    }
   ],
   "source": [
    "count=0\n",
    "OpenPage(\"codingninjas\")\n",
    "print('Not checked the story yet')\n",
    "time.sleep(2)\n",
    "try:\n",
    "    a = wait.until(EC.presence_of_element_located((By.CLASS_NAME,'h5uC0')))\n",
    "    if count==1:\n",
    "        print(\"Already seen the Story.\")\n",
    "        time.sleep(2)\n",
    "        driver.back()\n",
    "    else:\n",
    "        a = wait.until(EC.presence_of_element_located((By.CLASS_NAME,'_2dbep')))              #for story check button\n",
    "        a.click()\n",
    "        print(\"Seen the story\")\n",
    "        count+=1\n",
    "        time.sleep(30) #minimum sleep time to see the maximum number of stories\n",
    "        driver.back()\n",
    "        driver.back()\n",
    "    \n",
    "except TimeoutException:   #exception timeout\n",
    "    print(\"User don't have a Story.\")\n",
    "    time.sleep(2)\n",
    "    driver.back()\n"
   ]
  }
 ],
 "metadata": {
  "kernelspec": {
   "display_name": "Python 3",
   "language": "python",
   "name": "python3"
  },
  "language_info": {
   "codemirror_mode": {
    "name": "ipython",
    "version": 3
   },
   "file_extension": ".py",
   "mimetype": "text/x-python",
   "name": "python",
   "nbconvert_exporter": "python",
   "pygments_lexer": "ipython3",
   "version": "3.7.3"
  }
 },
 "nbformat": 4,
 "nbformat_minor": 2
}
